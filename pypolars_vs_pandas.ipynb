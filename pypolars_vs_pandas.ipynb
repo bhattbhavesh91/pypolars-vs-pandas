{
  "nbformat": 4,
  "nbformat_minor": 0,
  "metadata": {
    "colab": {
      "name": "pypolars_vs_pandas.ipynb",
      "provenance": [],
      "collapsed_sections": []
    },
    "kernelspec": {
      "name": "python3",
      "display_name": "Python 3"
    }
  },
  "cells": [
    {
      "cell_type": "markdown",
      "metadata": {
        "id": "AB3HMPrPyoNK"
      },
      "source": [
        "# Download the file"
      ]
    },
    {
      "cell_type": "code",
      "metadata": {
        "id": "3-JeRDJRr_1Z",
        "colab": {
          "base_uri": "https://localhost:8080/"
        },
        "outputId": "1eeb4a99-9542-41d1-c45b-93e47c0130d2"
      },
      "source": [
        "!wget \"http://eforexcel.com/wp/wp-content/uploads/2020/08/5000000-BT-Records.zip\""
      ],
      "execution_count": 1,
      "outputs": [
        {
          "output_type": "stream",
          "text": [
            "--2020-12-13 08:01:17--  http://eforexcel.com/wp/wp-content/uploads/2020/08/5000000-BT-Records.zip\n",
            "Resolving eforexcel.com (eforexcel.com)... 162.214.80.24\n",
            "Connecting to eforexcel.com (eforexcel.com)|162.214.80.24|:80... connected.\n",
            "HTTP request sent, awaiting response... 200 OK\n",
            "Length: 63080761 (60M) [application/zip]\n",
            "Saving to: ‘5000000-BT-Records.zip’\n",
            "\n",
            "5000000-BT-Records. 100%[===================>]  60.16M  35.6MB/s    in 1.7s    \n",
            "\n",
            "2020-12-13 08:01:18 (35.6 MB/s) - ‘5000000-BT-Records.zip’ saved [63080761/63080761]\n",
            "\n"
          ],
          "name": "stdout"
        }
      ]
    },
    {
      "cell_type": "code",
      "metadata": {
        "id": "Dxy34H8qr_49"
      },
      "source": [
        "import zipfile\n",
        "import os\n",
        "with zipfile.ZipFile(\"/content/5000000-BT-Records.zip\", 'r') as zip_ref:\n",
        "    zip_ref.extractall()"
      ],
      "execution_count": 2,
      "outputs": []
    },
    {
      "cell_type": "code",
      "metadata": {
        "id": "knYlOmVBtT-m",
        "colab": {
          "base_uri": "https://localhost:8080/"
        },
        "outputId": "9f3cc1b7-bf42-415d-b46e-4fd17ca7cc96"
      },
      "source": [
        "print (\"Size of file is {} MB\".format(os.path.getsize(\"/content/5000000 BT Records.csv\") >> 20))"
      ],
      "execution_count": 3,
      "outputs": [
        {
          "output_type": "stream",
          "text": [
            "Size of file is 235 MB\n"
          ],
          "name": "stdout"
        }
      ]
    },
    {
      "cell_type": "markdown",
      "metadata": {
        "id": "Pg-kGqojyspl"
      },
      "source": [
        "# Install PyPolars"
      ]
    },
    {
      "cell_type": "code",
      "metadata": {
        "id": "B0C8IV5TQnjN",
        "colab": {
          "base_uri": "https://localhost:8080/"
        },
        "outputId": "0303a494-64e6-4508-f196-1a283e455f12"
      },
      "source": [
        "!pip install py-polars"
      ],
      "execution_count": 4,
      "outputs": [
        {
          "output_type": "stream",
          "text": [
            "Collecting py-polars\n",
            "\u001b[?25l  Downloading https://files.pythonhosted.org/packages/a1/ce/c180d969d19cd1df40e58ee8d2cb6b64fc232df97b8a47ebb2d36eac0eac/py_polars-0.0.26-cp36-cp36m-manylinux1_x86_64.whl (7.2MB)\n",
            "\u001b[K     |████████████████████████████████| 7.2MB 5.6MB/s \n",
            "\u001b[?25hRequirement already satisfied: numpy in /usr/local/lib/python3.6/dist-packages (from py-polars) (1.18.5)\n",
            "Installing collected packages: py-polars\n",
            "Successfully installed py-polars-0.0.26\n"
          ],
          "name": "stdout"
        }
      ]
    },
    {
      "cell_type": "markdown",
      "metadata": {
        "id": "NJjHDF4Vyw6D"
      },
      "source": [
        "# Module Imports"
      ]
    },
    {
      "cell_type": "code",
      "metadata": {
        "id": "N0GgfngwtUEY"
      },
      "source": [
        "import time\n",
        "import numpy as np\n",
        "import pandas as pd\n",
        "import pypolars as pl"
      ],
      "execution_count": 5,
      "outputs": []
    },
    {
      "cell_type": "code",
      "metadata": {
        "id": "6au4hUoHx7ib"
      },
      "source": [
        "pd.set_option('display.float_format', lambda x: '%.1f' % x)"
      ],
      "execution_count": 6,
      "outputs": []
    },
    {
      "cell_type": "markdown",
      "metadata": {
        "id": "kj3AQx0yue9F"
      },
      "source": [
        "# Read Time Comparision"
      ]
    },
    {
      "cell_type": "code",
      "metadata": {
        "id": "IRil6qxtAiIu"
      },
      "source": [
        "file_loc = \"/content/5000000 BT Records.csv\""
      ],
      "execution_count": 7,
      "outputs": []
    },
    {
      "cell_type": "code",
      "metadata": {
        "id": "C9LSCOfiukF3",
        "colab": {
          "base_uri": "https://localhost:8080/"
        },
        "outputId": "e90cfa49-3f4c-477b-fd5c-fbaeadecac88"
      },
      "source": [
        "s = time.time()\n",
        "df_pandas = pd.read_csv(file_loc)\n",
        "e = time.time()\n",
        "pd_time = e - s\n",
        "print(\"Pandas Loading Time = {}\".format(pd_time))"
      ],
      "execution_count": 8,
      "outputs": [
        {
          "output_type": "stream",
          "text": [
            "Pandas Loading Time = 6.960982799530029\n"
          ],
          "name": "stdout"
        }
      ]
    },
    {
      "cell_type": "code",
      "metadata": {
        "id": "nF-jdyp5wAlz",
        "colab": {
          "base_uri": "https://localhost:8080/",
          "height": 202
        },
        "outputId": "127fa9c7-8b1d-442f-cf61-62b0fb2563fc"
      },
      "source": [
        "df_pandas.head()"
      ],
      "execution_count": 9,
      "outputs": [
        {
          "output_type": "execute_result",
          "data": {
            "text/html": [
              "<div>\n",
              "<style scoped>\n",
              "    .dataframe tbody tr th:only-of-type {\n",
              "        vertical-align: middle;\n",
              "    }\n",
              "\n",
              "    .dataframe tbody tr th {\n",
              "        vertical-align: top;\n",
              "    }\n",
              "\n",
              "    .dataframe thead th {\n",
              "        text-align: right;\n",
              "    }\n",
              "</style>\n",
              "<table border=\"1\" class=\"dataframe\">\n",
              "  <thead>\n",
              "    <tr style=\"text-align: right;\">\n",
              "      <th></th>\n",
              "      <th>Date</th>\n",
              "      <th>Description</th>\n",
              "      <th>Deposits</th>\n",
              "      <th>Withdrawls</th>\n",
              "      <th>Balance</th>\n",
              "    </tr>\n",
              "  </thead>\n",
              "  <tbody>\n",
              "    <tr>\n",
              "      <th>0</th>\n",
              "      <td>21-Aug-2020</td>\n",
              "      <td>Reversal</td>\n",
              "      <td>00.00</td>\n",
              "      <td>10,612.64</td>\n",
              "      <td>53,063.19</td>\n",
              "    </tr>\n",
              "    <tr>\n",
              "      <th>1</th>\n",
              "      <td>21-Aug-2020</td>\n",
              "      <td>Commission</td>\n",
              "      <td>00.00</td>\n",
              "      <td>26,531.60</td>\n",
              "      <td>26,531.60</td>\n",
              "    </tr>\n",
              "    <tr>\n",
              "      <th>2</th>\n",
              "      <td>21-Aug-2020</td>\n",
              "      <td>Debit Card</td>\n",
              "      <td>00.00</td>\n",
              "      <td>8,843.87</td>\n",
              "      <td>17,687.73</td>\n",
              "    </tr>\n",
              "    <tr>\n",
              "      <th>3</th>\n",
              "      <td>21-Aug-2020</td>\n",
              "      <td>Cash</td>\n",
              "      <td>23,475.67</td>\n",
              "      <td>00.00</td>\n",
              "      <td>41,163.40</td>\n",
              "    </tr>\n",
              "    <tr>\n",
              "      <th>4</th>\n",
              "      <td>21-Aug-2020</td>\n",
              "      <td>Interest</td>\n",
              "      <td>00.00</td>\n",
              "      <td>5,145.43</td>\n",
              "      <td>36,017.98</td>\n",
              "    </tr>\n",
              "  </tbody>\n",
              "</table>\n",
              "</div>"
            ],
            "text/plain": [
              "          Date Description   Deposits Withdrawls    Balance\n",
              "0  21-Aug-2020    Reversal      00.00  10,612.64  53,063.19\n",
              "1  21-Aug-2020  Commission      00.00  26,531.60  26,531.60\n",
              "2  21-Aug-2020  Debit Card      00.00   8,843.87  17,687.73\n",
              "3  21-Aug-2020        Cash  23,475.67      00.00  41,163.40\n",
              "4  21-Aug-2020    Interest      00.00   5,145.43  36,017.98"
            ]
          },
          "metadata": {
            "tags": []
          },
          "execution_count": 9
        }
      ]
    },
    {
      "cell_type": "code",
      "metadata": {
        "id": "SporgeQcukJF",
        "colab": {
          "base_uri": "https://localhost:8080/"
        },
        "outputId": "267c1621-3686-48a8-b8d4-581c51f3fabe"
      },
      "source": [
        "s = time.time()\n",
        "df_pypolars = pl.read_csv(file_loc)\n",
        "e = time.time()\n",
        "pl_time = e - s \n",
        "print(\"PyPolars Loading Time = {}\".format(pl_time))"
      ],
      "execution_count": 10,
      "outputs": [
        {
          "output_type": "stream",
          "text": [
            "PyPolars Loading Time = 4.235971689224243\n"
          ],
          "name": "stdout"
        }
      ]
    },
    {
      "cell_type": "code",
      "metadata": {
        "colab": {
          "base_uri": "https://localhost:8080/"
        },
        "id": "_JW7zaf1F_z5",
        "outputId": "283960b3-7739-466f-c056-42c6a48219b8"
      },
      "source": [
        "df_pypolars.head()"
      ],
      "execution_count": 11,
      "outputs": [
        {
          "output_type": "execute_result",
          "data": {
            "text/plain": [
              "shape: (5, 5)\n",
              "╭─────────────┬─────────────┬───────────┬────────────┬───────────╮\n",
              "│ Date        ┆ Description ┆ Deposits  ┆ Withdrawls ┆ Balance   │\n",
              "│ ---         ┆ ---         ┆ ---       ┆ ---        ┆ ---       │\n",
              "│ str         ┆ str         ┆ str       ┆ str        ┆ str       │\n",
              "╞═════════════╪═════════════╪═══════════╪════════════╪═══════════╡\n",
              "│ 21-Aug-2020 ┆ Reversal    ┆ 00.00     ┆ 10,612.64  ┆ 53,063.19 │\n",
              "├╌╌╌╌╌╌╌╌╌╌╌╌╌┼╌╌╌╌╌╌╌╌╌╌╌╌╌┼╌╌╌╌╌╌╌╌╌╌╌┼╌╌╌╌╌╌╌╌╌╌╌╌┼╌╌╌╌╌╌╌╌╌╌╌┤\n",
              "│ 21-Aug-2020 ┆ Commission  ┆ 00.00     ┆ 26,531.60  ┆ 26,531.60 │\n",
              "├╌╌╌╌╌╌╌╌╌╌╌╌╌┼╌╌╌╌╌╌╌╌╌╌╌╌╌┼╌╌╌╌╌╌╌╌╌╌╌┼╌╌╌╌╌╌╌╌╌╌╌╌┼╌╌╌╌╌╌╌╌╌╌╌┤\n",
              "│ 21-Aug-2020 ┆ Debit Card  ┆ 00.00     ┆ 8,843.87   ┆ 17,687.73 │\n",
              "├╌╌╌╌╌╌╌╌╌╌╌╌╌┼╌╌╌╌╌╌╌╌╌╌╌╌╌┼╌╌╌╌╌╌╌╌╌╌╌┼╌╌╌╌╌╌╌╌╌╌╌╌┼╌╌╌╌╌╌╌╌╌╌╌┤\n",
              "│ 21-Aug-2020 ┆ Cash        ┆ 23,475.67 ┆ 00.00      ┆ 41,163.40 │\n",
              "├╌╌╌╌╌╌╌╌╌╌╌╌╌┼╌╌╌╌╌╌╌╌╌╌╌╌╌┼╌╌╌╌╌╌╌╌╌╌╌┼╌╌╌╌╌╌╌╌╌╌╌╌┼╌╌╌╌╌╌╌╌╌╌╌┤\n",
              "│ 21-Aug-2020 ┆ Interest    ┆ 00.00     ┆ 5,145.43   ┆ 36,017.98 │\n",
              "╰─────────────┴─────────────┴───────────┴────────────┴───────────╯"
            ]
          },
          "metadata": {
            "tags": []
          },
          "execution_count": 11
        }
      ]
    },
    {
      "cell_type": "code",
      "metadata": {
        "id": "NWQPGw2WvpGn",
        "colab": {
          "base_uri": "https://localhost:8080/"
        },
        "outputId": "1d5af282-c07c-4aca-86b9-482ff6caa74e"
      },
      "source": [
        "pd_time > pl_time"
      ],
      "execution_count": 12,
      "outputs": [
        {
          "output_type": "execute_result",
          "data": {
            "text/plain": [
              "True"
            ]
          },
          "metadata": {
            "tags": []
          },
          "execution_count": 12
        }
      ]
    },
    {
      "cell_type": "code",
      "metadata": {
        "id": "KNbPyFeCukL9",
        "colab": {
          "base_uri": "https://localhost:8080/"
        },
        "outputId": "88275a5c-413c-4265-cb76-bd4ea6bcb4c3"
      },
      "source": [
        "print(\"pypolars is {:.2f} times faster than pandas in loading the csv file\".format(pd_time / pl_time))"
      ],
      "execution_count": 13,
      "outputs": [
        {
          "output_type": "stream",
          "text": [
            "pypolars is 1.64 times faster than pandas in loading the csv file\n"
          ],
          "name": "stdout"
        }
      ]
    },
    {
      "cell_type": "markdown",
      "metadata": {
        "id": "qYhkOAkJwWmt"
      },
      "source": [
        "# GroupBy Time Comparision"
      ]
    },
    {
      "cell_type": "code",
      "metadata": {
        "colab": {
          "base_uri": "https://localhost:8080/",
          "height": 202
        },
        "id": "bIaZZ1ehGJsr",
        "outputId": "9c8643b9-f617-485c-be86-d5a0309d86af"
      },
      "source": [
        "df_pandas.head()"
      ],
      "execution_count": 14,
      "outputs": [
        {
          "output_type": "execute_result",
          "data": {
            "text/html": [
              "<div>\n",
              "<style scoped>\n",
              "    .dataframe tbody tr th:only-of-type {\n",
              "        vertical-align: middle;\n",
              "    }\n",
              "\n",
              "    .dataframe tbody tr th {\n",
              "        vertical-align: top;\n",
              "    }\n",
              "\n",
              "    .dataframe thead th {\n",
              "        text-align: right;\n",
              "    }\n",
              "</style>\n",
              "<table border=\"1\" class=\"dataframe\">\n",
              "  <thead>\n",
              "    <tr style=\"text-align: right;\">\n",
              "      <th></th>\n",
              "      <th>Date</th>\n",
              "      <th>Description</th>\n",
              "      <th>Deposits</th>\n",
              "      <th>Withdrawls</th>\n",
              "      <th>Balance</th>\n",
              "    </tr>\n",
              "  </thead>\n",
              "  <tbody>\n",
              "    <tr>\n",
              "      <th>0</th>\n",
              "      <td>21-Aug-2020</td>\n",
              "      <td>Reversal</td>\n",
              "      <td>00.00</td>\n",
              "      <td>10,612.64</td>\n",
              "      <td>53,063.19</td>\n",
              "    </tr>\n",
              "    <tr>\n",
              "      <th>1</th>\n",
              "      <td>21-Aug-2020</td>\n",
              "      <td>Commission</td>\n",
              "      <td>00.00</td>\n",
              "      <td>26,531.60</td>\n",
              "      <td>26,531.60</td>\n",
              "    </tr>\n",
              "    <tr>\n",
              "      <th>2</th>\n",
              "      <td>21-Aug-2020</td>\n",
              "      <td>Debit Card</td>\n",
              "      <td>00.00</td>\n",
              "      <td>8,843.87</td>\n",
              "      <td>17,687.73</td>\n",
              "    </tr>\n",
              "    <tr>\n",
              "      <th>3</th>\n",
              "      <td>21-Aug-2020</td>\n",
              "      <td>Cash</td>\n",
              "      <td>23,475.67</td>\n",
              "      <td>00.00</td>\n",
              "      <td>41,163.40</td>\n",
              "    </tr>\n",
              "    <tr>\n",
              "      <th>4</th>\n",
              "      <td>21-Aug-2020</td>\n",
              "      <td>Interest</td>\n",
              "      <td>00.00</td>\n",
              "      <td>5,145.43</td>\n",
              "      <td>36,017.98</td>\n",
              "    </tr>\n",
              "  </tbody>\n",
              "</table>\n",
              "</div>"
            ],
            "text/plain": [
              "          Date Description   Deposits Withdrawls    Balance\n",
              "0  21-Aug-2020    Reversal      00.00  10,612.64  53,063.19\n",
              "1  21-Aug-2020  Commission      00.00  26,531.60  26,531.60\n",
              "2  21-Aug-2020  Debit Card      00.00   8,843.87  17,687.73\n",
              "3  21-Aug-2020        Cash  23,475.67      00.00  41,163.40\n",
              "4  21-Aug-2020    Interest      00.00   5,145.43  36,017.98"
            ]
          },
          "metadata": {
            "tags": []
          },
          "execution_count": 14
        }
      ]
    },
    {
      "cell_type": "code",
      "metadata": {
        "id": "5_KNTtCJEM5F"
      },
      "source": [
        "df_pandas[\"Balance\"] = df_pandas[\"Balance\"].str.replace(\",\", \"\")\r\n",
        "df_pandas[\"Balance\"] = df_pandas[\"Balance\"].astype(float)"
      ],
      "execution_count": 15,
      "outputs": []
    },
    {
      "cell_type": "code",
      "metadata": {
        "colab": {
          "base_uri": "https://localhost:8080/",
          "height": 202
        },
        "id": "Ksj4kUUTETOh",
        "outputId": "a6b3645c-3038-4911-a614-7bb4a7ddb5cb"
      },
      "source": [
        "df_pandas.head()"
      ],
      "execution_count": 16,
      "outputs": [
        {
          "output_type": "execute_result",
          "data": {
            "text/html": [
              "<div>\n",
              "<style scoped>\n",
              "    .dataframe tbody tr th:only-of-type {\n",
              "        vertical-align: middle;\n",
              "    }\n",
              "\n",
              "    .dataframe tbody tr th {\n",
              "        vertical-align: top;\n",
              "    }\n",
              "\n",
              "    .dataframe thead th {\n",
              "        text-align: right;\n",
              "    }\n",
              "</style>\n",
              "<table border=\"1\" class=\"dataframe\">\n",
              "  <thead>\n",
              "    <tr style=\"text-align: right;\">\n",
              "      <th></th>\n",
              "      <th>Date</th>\n",
              "      <th>Description</th>\n",
              "      <th>Deposits</th>\n",
              "      <th>Withdrawls</th>\n",
              "      <th>Balance</th>\n",
              "    </tr>\n",
              "  </thead>\n",
              "  <tbody>\n",
              "    <tr>\n",
              "      <th>0</th>\n",
              "      <td>21-Aug-2020</td>\n",
              "      <td>Reversal</td>\n",
              "      <td>00.00</td>\n",
              "      <td>10,612.64</td>\n",
              "      <td>53063.2</td>\n",
              "    </tr>\n",
              "    <tr>\n",
              "      <th>1</th>\n",
              "      <td>21-Aug-2020</td>\n",
              "      <td>Commission</td>\n",
              "      <td>00.00</td>\n",
              "      <td>26,531.60</td>\n",
              "      <td>26531.6</td>\n",
              "    </tr>\n",
              "    <tr>\n",
              "      <th>2</th>\n",
              "      <td>21-Aug-2020</td>\n",
              "      <td>Debit Card</td>\n",
              "      <td>00.00</td>\n",
              "      <td>8,843.87</td>\n",
              "      <td>17687.7</td>\n",
              "    </tr>\n",
              "    <tr>\n",
              "      <th>3</th>\n",
              "      <td>21-Aug-2020</td>\n",
              "      <td>Cash</td>\n",
              "      <td>23,475.67</td>\n",
              "      <td>00.00</td>\n",
              "      <td>41163.4</td>\n",
              "    </tr>\n",
              "    <tr>\n",
              "      <th>4</th>\n",
              "      <td>21-Aug-2020</td>\n",
              "      <td>Interest</td>\n",
              "      <td>00.00</td>\n",
              "      <td>5,145.43</td>\n",
              "      <td>36018.0</td>\n",
              "    </tr>\n",
              "  </tbody>\n",
              "</table>\n",
              "</div>"
            ],
            "text/plain": [
              "          Date Description   Deposits Withdrawls  Balance\n",
              "0  21-Aug-2020    Reversal      00.00  10,612.64  53063.2\n",
              "1  21-Aug-2020  Commission      00.00  26,531.60  26531.6\n",
              "2  21-Aug-2020  Debit Card      00.00   8,843.87  17687.7\n",
              "3  21-Aug-2020        Cash  23,475.67      00.00  41163.4\n",
              "4  21-Aug-2020    Interest      00.00   5,145.43  36018.0"
            ]
          },
          "metadata": {
            "tags": []
          },
          "execution_count": 16
        }
      ]
    },
    {
      "cell_type": "code",
      "metadata": {
        "id": "KtNFrKBBwZNe",
        "colab": {
          "base_uri": "https://localhost:8080/"
        },
        "outputId": "2bf6bf3b-0f70-49cc-e6b4-5353829c38b7"
      },
      "source": [
        "s = time.time()\n",
        "print(df_pandas.groupby(\"Description\")[\"Balance\"].mean())\n",
        "e = time.time()\n",
        "pd_time = e - s\n",
        "print(\"Pandas GroupBy Calculation Time = {}\".format(pd_time))"
      ],
      "execution_count": 17,
      "outputs": [
        {
          "output_type": "stream",
          "text": [
            "Description\n",
            "ATM             613155.2\n",
            "Bill            615399.1\n",
            "Cash            614837.8\n",
            "Cheque          613713.7\n",
            "Commission      614796.2\n",
            "Debit Card      613490.6\n",
            "IMPS            614506.8\n",
            "Interest        612680.3\n",
            "Miscellaneous   613644.7\n",
            "NEFT            612815.1\n",
            "Purchase        611507.6\n",
            "RTGS            612053.8\n",
            "Reversal        613782.9\n",
            "Tax             613021.1\n",
            "Transfer        614664.2\n",
            "Name: Balance, dtype: float64\n",
            "Pandas GroupBy Calculation Time = 0.345766544342041\n"
          ],
          "name": "stdout"
        }
      ]
    },
    {
      "cell_type": "code",
      "metadata": {
        "id": "BZZzHyBTEms5"
      },
      "source": [
        "df_pypolars_from_pandas = pl.DataFrame(df_pandas)"
      ],
      "execution_count": 18,
      "outputs": []
    },
    {
      "cell_type": "code",
      "metadata": {
        "colab": {
          "base_uri": "https://localhost:8080/"
        },
        "id": "fvp38TskEmwL",
        "outputId": "c0b5a74c-ff32-415f-a6a1-1f0da8cd4875"
      },
      "source": [
        "df_pypolars_from_pandas.head()"
      ],
      "execution_count": 19,
      "outputs": [
        {
          "output_type": "execute_result",
          "data": {
            "text/plain": [
              "shape: (5, 5)\n",
              "╭─────────────┬─────────────┬───────────┬────────────┬────────────╮\n",
              "│ Date        ┆ Description ┆ Deposits  ┆ Withdrawls ┆ Balance    │\n",
              "│ ---         ┆ ---         ┆ ---       ┆ ---        ┆ ---        │\n",
              "│ str         ┆ str         ┆ str       ┆ str        ┆ f64        │\n",
              "╞═════════════╪═════════════╪═══════════╪════════════╪════════════╡\n",
              "│ 21-Aug-2020 ┆ Reversal    ┆ 00.00     ┆ 10,612.64  ┆ 5.306319e4 │\n",
              "├╌╌╌╌╌╌╌╌╌╌╌╌╌┼╌╌╌╌╌╌╌╌╌╌╌╌╌┼╌╌╌╌╌╌╌╌╌╌╌┼╌╌╌╌╌╌╌╌╌╌╌╌┼╌╌╌╌╌╌╌╌╌╌╌╌┤\n",
              "│ 21-Aug-2020 ┆ Commission  ┆ 00.00     ┆ 26,531.60  ┆ 2.65316e4  │\n",
              "├╌╌╌╌╌╌╌╌╌╌╌╌╌┼╌╌╌╌╌╌╌╌╌╌╌╌╌┼╌╌╌╌╌╌╌╌╌╌╌┼╌╌╌╌╌╌╌╌╌╌╌╌┼╌╌╌╌╌╌╌╌╌╌╌╌┤\n",
              "│ 21-Aug-2020 ┆ Debit Card  ┆ 00.00     ┆ 8,843.87   ┆ 1.768773e4 │\n",
              "├╌╌╌╌╌╌╌╌╌╌╌╌╌┼╌╌╌╌╌╌╌╌╌╌╌╌╌┼╌╌╌╌╌╌╌╌╌╌╌┼╌╌╌╌╌╌╌╌╌╌╌╌┼╌╌╌╌╌╌╌╌╌╌╌╌┤\n",
              "│ 21-Aug-2020 ┆ Cash        ┆ 23,475.67 ┆ 00.00      ┆ 4.11634e4  │\n",
              "├╌╌╌╌╌╌╌╌╌╌╌╌╌┼╌╌╌╌╌╌╌╌╌╌╌╌╌┼╌╌╌╌╌╌╌╌╌╌╌┼╌╌╌╌╌╌╌╌╌╌╌╌┼╌╌╌╌╌╌╌╌╌╌╌╌┤\n",
              "│ 21-Aug-2020 ┆ Interest    ┆ 00.00     ┆ 5,145.43   ┆ 3.601798e4 │\n",
              "╰─────────────┴─────────────┴───────────┴────────────┴────────────╯"
            ]
          },
          "metadata": {
            "tags": []
          },
          "execution_count": 19
        }
      ]
    },
    {
      "cell_type": "code",
      "metadata": {
        "id": "YcoYrt-AwZQ7",
        "colab": {
          "base_uri": "https://localhost:8080/"
        },
        "outputId": "e803adb2-5c06-4b6e-f852-366db625da4e"
      },
      "source": [
        "s = time.time()\n",
        "print(df_pypolars_from_pandas.groupby(\"Description\").select(\"Balance\").mean())\n",
        "e = time.time()\n",
        "pl_time = e - s \n",
        "print(\"PyPolars Groupby Calculation Time = {}\".format(pl_time))"
      ],
      "execution_count": 20,
      "outputs": [
        {
          "output_type": "stream",
          "text": [
            "shape: (15, 2)\n",
            "╭───────────────┬──────────────╮\n",
            "│ Description   ┆ Balance_mean │\n",
            "│ ---           ┆ ---          │\n",
            "│ str           ┆ f64          │\n",
            "╞═══════════════╪══════════════╡\n",
            "│ Purchase      ┆ 6.11507648e5 │\n",
            "├╌╌╌╌╌╌╌╌╌╌╌╌╌╌╌┼╌╌╌╌╌╌╌╌╌╌╌╌╌╌┤\n",
            "│ RTGS          ┆ 6.12053761e5 │\n",
            "├╌╌╌╌╌╌╌╌╌╌╌╌╌╌╌┼╌╌╌╌╌╌╌╌╌╌╌╌╌╌┤\n",
            "│ Reversal      ┆ 6.1378287e5  │\n",
            "├╌╌╌╌╌╌╌╌╌╌╌╌╌╌╌┼╌╌╌╌╌╌╌╌╌╌╌╌╌╌┤\n",
            "│ Transfer      ┆ 6.14664198e5 │\n",
            "├╌╌╌╌╌╌╌╌╌╌╌╌╌╌╌┼╌╌╌╌╌╌╌╌╌╌╌╌╌╌┤\n",
            "│ ...           ┆ ...          │\n",
            "├╌╌╌╌╌╌╌╌╌╌╌╌╌╌╌┼╌╌╌╌╌╌╌╌╌╌╌╌╌╌┤\n",
            "│ Miscellaneous ┆ 6.13644685e5 │\n",
            "├╌╌╌╌╌╌╌╌╌╌╌╌╌╌╌┼╌╌╌╌╌╌╌╌╌╌╌╌╌╌┤\n",
            "│ Interest      ┆ 6.12680277e5 │\n",
            "├╌╌╌╌╌╌╌╌╌╌╌╌╌╌╌┼╌╌╌╌╌╌╌╌╌╌╌╌╌╌┤\n",
            "│ Cash          ┆ 6.14837796e5 │\n",
            "├╌╌╌╌╌╌╌╌╌╌╌╌╌╌╌┼╌╌╌╌╌╌╌╌╌╌╌╌╌╌┤\n",
            "│ Bill          ┆ 6.15399109e5 │\n",
            "├╌╌╌╌╌╌╌╌╌╌╌╌╌╌╌┼╌╌╌╌╌╌╌╌╌╌╌╌╌╌┤\n",
            "│ Tax           ┆ 6.13021146e5 │\n",
            "╰───────────────┴──────────────╯\n",
            "PyPolars Groupby Calculation Time = 0.2570993900299072\n"
          ],
          "name": "stdout"
        }
      ]
    },
    {
      "cell_type": "code",
      "metadata": {
        "id": "DGB0kmyXwv9S",
        "colab": {
          "base_uri": "https://localhost:8080/"
        },
        "outputId": "1c85d64a-5d35-4b70-96df-8580dd5c12d2"
      },
      "source": [
        "pd_time > pl_time"
      ],
      "execution_count": 21,
      "outputs": [
        {
          "output_type": "execute_result",
          "data": {
            "text/plain": [
              "True"
            ]
          },
          "metadata": {
            "tags": []
          },
          "execution_count": 21
        }
      ]
    },
    {
      "cell_type": "code",
      "metadata": {
        "id": "EoX5Mga9wwAu",
        "colab": {
          "base_uri": "https://localhost:8080/"
        },
        "outputId": "b4458067-4d13-46bc-e6c5-0c41188af54d"
      },
      "source": [
        "print(\"pypolars is {:.2f} times faster than pandas for the current groupby operation\".format(pd_time / pl_time))"
      ],
      "execution_count": 22,
      "outputs": [
        {
          "output_type": "stream",
          "text": [
            "pypolars is 1.34 times faster than pandas for the current groupby operation\n"
          ],
          "name": "stdout"
        }
      ]
    }
  ]
}